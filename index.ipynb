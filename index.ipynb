{
 "cells": [
  {
   "cell_type": "markdown",
   "metadata": {},
   "source": [
    "# Image Classification - Lab\n",
    "\n",
    "## Introduction\n",
    "\n",
    "Now that you have a working knowledge of CNNs and have practiced implementing associated techniques in Keras, its time to put all of those skills together. In this lab, you'll work to complete a Kaggle competition on classifying dog breeds.\n",
    "\n",
    "https://www.kaggle.com/c/dog-breed-identification\n",
    "\n",
    "## Objectives\n",
    "\n",
    "You will be able to:\n",
    "* Independently design and build a CNN for image classifcation tasks\n",
    "* Compare and apply multiple techniques for tuning a model including data augmentation and adapting pretrained models"
   ]
  },
  {
   "cell_type": "markdown",
   "metadata": {},
   "source": [
    "## Download and Load the Data\n",
    "\n",
    "Start by downloading the data locally and loading it into a Pandas DataFrame. Be forewarened that this dataset is fairly large and it is advisable to close other memory intensive applications.\n",
    "\n",
    "The data can be found here:\n",
    "\n",
    "https://www.kaggle.com/c/dog-breed-identification/data\n",
    "\n",
    "We recommend downloading the data into this directory on your local computer. From there, be sure to uncompress the folder and subfolders."
   ]
  },
  {
   "cell_type": "code",
   "execution_count": 1,
   "metadata": {},
   "outputs": [],
   "source": [
    "#No code persay, but download and decompress the data."
   ]
  },
  {
   "cell_type": "markdown",
   "metadata": {},
   "source": [
    "## Preprocessing\n",
    "\n",
    "Now that you've downloaded the data, its time to prepare it for some model building! You'll notice that the current structure provided is not the same as our lovely preprocessed folders that we've been providing you. Instead, you have one large training folder with images and a csv file with labels associated with each of these file types. \n",
    "\n",
    "Use this to create a directory substructure for a train-validation-test split as we have done previously. Also recall from our previous work that you'll also want to use one-hot encoding as we are now presented with a multi-class problem as opposed to simple binary classification."
   ]
  },
  {
   "cell_type": "code",
   "execution_count": 2,
   "metadata": {},
   "outputs": [],
   "source": [
    "#Your code here; open the labels.csv file stored in the zip file\n",
    "import pandas as pd\n",
    "df=pd.read_csv('labels.csv')"
   ]
  },
  {
   "cell_type": "markdown",
   "metadata": {},
   "source": [
    "We wish to create our standard directory structure:\n",
    "* train\n",
    "    * category1\n",
    "    * category2\n",
    "    * category3\n",
    "    ...\n",
    "* val\n",
    "    * category1\n",
    "    * category2\n",
    "    * category3\n",
    "    ...\n",
    "* test \n",
    "    * category1\n",
    "    * category2\n",
    "    * category3\n",
    "    ...  "
   ]
  },
  {
   "cell_type": "code",
   "execution_count": 5,
   "metadata": {},
   "outputs": [
    {
     "name": "stdout",
     "output_type": "stream",
     "text": [
      "Moving boston_bull pictures.\n",
      "Split 87 imgs into 69 train, 9 val, and 9 test examples.\n",
      "Moving dingo pictures.\n",
      "Split 80 imgs into 64 train, 8 val, and 8 test examples.\n",
      "Moving pekinese pictures.\n",
      "Split 75 imgs into 60 train, 7 val, and 8 test examples.\n",
      "Moving bluetick pictures.\n",
      "Split 85 imgs into 68 train, 8 val, and 9 test examples.\n",
      "Moving golden_retriever pictures.\n",
      "Split 67 imgs into 53 train, 7 val, and 7 test examples.\n",
      "Moving bedlington_terrier pictures.\n",
      "Split 89 imgs into 71 train, 9 val, and 9 test examples.\n",
      "Moving borzoi pictures.\n",
      "Split 75 imgs into 60 train, 7 val, and 8 test examples.\n",
      "Moving basenji pictures.\n",
      "Split 110 imgs into 88 train, 11 val, and 11 test examples.\n",
      "Moving scottish_deerhound pictures.\n",
      "Split 126 imgs into 100 train, 13 val, and 13 test examples.\n",
      "Moving shetland_sheepdog pictures.\n",
      "Split 76 imgs into 60 train, 8 val, and 8 test examples.\n",
      "Moving walker_hound pictures.\n",
      "Split 69 imgs into 55 train, 7 val, and 7 test examples.\n",
      "Moving maltese_dog pictures.\n",
      "Split 117 imgs into 93 train, 12 val, and 12 test examples.\n",
      "Moving norfolk_terrier pictures.\n",
      "Split 83 imgs into 66 train, 8 val, and 9 test examples.\n",
      "Moving african_hunting_dog pictures.\n",
      "Split 86 imgs into 68 train, 9 val, and 9 test examples.\n",
      "Moving wire-haired_fox_terrier pictures.\n",
      "Split 82 imgs into 65 train, 8 val, and 9 test examples.\n",
      "Moving redbone pictures.\n",
      "Split 72 imgs into 57 train, 7 val, and 8 test examples.\n",
      "Moving lakeland_terrier pictures.\n",
      "Split 99 imgs into 79 train, 10 val, and 10 test examples.\n",
      "Moving boxer pictures.\n",
      "Split 75 imgs into 60 train, 7 val, and 8 test examples.\n",
      "Moving doberman pictures.\n",
      "Split 74 imgs into 59 train, 7 val, and 8 test examples.\n",
      "Moving otterhound pictures.\n",
      "Split 69 imgs into 55 train, 7 val, and 7 test examples.\n",
      "Moving standard_schnauzer pictures.\n",
      "Split 72 imgs into 57 train, 7 val, and 8 test examples.\n",
      "Moving irish_water_spaniel pictures.\n",
      "Split 78 imgs into 62 train, 8 val, and 8 test examples.\n",
      "Moving black-and-tan_coonhound pictures.\n",
      "Split 77 imgs into 61 train, 8 val, and 8 test examples.\n",
      "Moving cairn pictures.\n",
      "Split 106 imgs into 84 train, 11 val, and 11 test examples.\n",
      "Moving affenpinscher pictures.\n",
      "Split 80 imgs into 64 train, 8 val, and 8 test examples.\n",
      "Moving labrador_retriever pictures.\n",
      "Split 84 imgs into 67 train, 8 val, and 9 test examples.\n",
      "Moving ibizan_hound pictures.\n",
      "Split 91 imgs into 72 train, 9 val, and 10 test examples.\n",
      "Moving english_setter pictures.\n",
      "Split 83 imgs into 66 train, 8 val, and 9 test examples.\n",
      "Moving weimaraner pictures.\n",
      "Split 85 imgs into 68 train, 8 val, and 9 test examples.\n",
      "Moving giant_schnauzer pictures.\n",
      "Split 69 imgs into 55 train, 7 val, and 7 test examples.\n",
      "Moving groenendael pictures.\n",
      "Split 82 imgs into 65 train, 8 val, and 9 test examples.\n",
      "Moving dhole pictures.\n",
      "Split 76 imgs into 60 train, 8 val, and 8 test examples.\n",
      "Moving toy_poodle pictures.\n",
      "Split 80 imgs into 64 train, 8 val, and 8 test examples.\n",
      "Moving border_terrier pictures.\n",
      "Split 91 imgs into 72 train, 9 val, and 10 test examples.\n",
      "Moving tibetan_terrier pictures.\n",
      "Split 107 imgs into 85 train, 11 val, and 11 test examples.\n",
      "Moving norwegian_elkhound pictures.\n",
      "Split 95 imgs into 76 train, 9 val, and 10 test examples.\n",
      "Moving shih-tzu pictures.\n",
      "Split 112 imgs into 89 train, 11 val, and 12 test examples.\n",
      "Moving irish_terrier pictures.\n",
      "Split 82 imgs into 65 train, 8 val, and 9 test examples.\n",
      "Moving kuvasz pictures.\n",
      "Split 71 imgs into 56 train, 7 val, and 8 test examples.\n",
      "Moving german_shepherd pictures.\n",
      "Split 69 imgs into 55 train, 7 val, and 7 test examples.\n",
      "Moving greater_swiss_mountain_dog pictures.\n",
      "Split 82 imgs into 65 train, 8 val, and 9 test examples.\n",
      "Moving basset pictures.\n",
      "Split 82 imgs into 65 train, 8 val, and 9 test examples.\n",
      "Moving australian_terrier pictures.\n",
      "Split 102 imgs into 81 train, 10 val, and 11 test examples.\n",
      "Moving schipperke pictures.\n",
      "Split 86 imgs into 68 train, 9 val, and 9 test examples.\n",
      "Moving rhodesian_ridgeback pictures.\n",
      "Split 88 imgs into 70 train, 9 val, and 9 test examples.\n",
      "Moving irish_setter pictures.\n",
      "Split 88 imgs into 70 train, 9 val, and 9 test examples.\n",
      "Moving appenzeller pictures.\n",
      "Split 78 imgs into 62 train, 8 val, and 8 test examples.\n",
      "Moving bloodhound pictures.\n",
      "Split 85 imgs into 68 train, 8 val, and 9 test examples.\n",
      "Moving samoyed pictures.\n",
      "Split 109 imgs into 87 train, 11 val, and 11 test examples.\n",
      "Moving miniature_schnauzer pictures.\n",
      "Split 78 imgs into 62 train, 8 val, and 8 test examples.\n",
      "Moving brittany_spaniel pictures.\n",
      "Split 73 imgs into 58 train, 7 val, and 8 test examples.\n",
      "Moving kelpie pictures.\n",
      "Split 86 imgs into 68 train, 9 val, and 9 test examples.\n",
      "Moving papillon pictures.\n",
      "Split 96 imgs into 76 train, 10 val, and 10 test examples.\n",
      "Moving border_collie pictures.\n",
      "Split 72 imgs into 57 train, 7 val, and 8 test examples.\n",
      "Moving entlebucher pictures.\n",
      "Split 115 imgs into 92 train, 11 val, and 12 test examples.\n",
      "Moving collie pictures.\n",
      "Split 87 imgs into 69 train, 9 val, and 9 test examples.\n",
      "Moving malamute pictures.\n",
      "Split 81 imgs into 64 train, 8 val, and 9 test examples.\n",
      "Moving welsh_springer_spaniel pictures.\n",
      "Split 79 imgs into 63 train, 8 val, and 8 test examples.\n",
      "Moving chihuahua pictures.\n",
      "Split 71 imgs into 56 train, 7 val, and 8 test examples.\n",
      "Moving saluki pictures.\n",
      "Split 99 imgs into 79 train, 10 val, and 10 test examples.\n",
      "Moving pug pictures.\n",
      "Split 94 imgs into 75 train, 9 val, and 10 test examples.\n",
      "Moving malinois pictures.\n",
      "Split 73 imgs into 58 train, 7 val, and 8 test examples.\n",
      "Moving komondor pictures.\n",
      "Split 67 imgs into 53 train, 7 val, and 7 test examples.\n",
      "Moving airedale pictures.\n",
      "Split 107 imgs into 85 train, 11 val, and 11 test examples.\n",
      "Moving leonberg pictures.\n",
      "Split 106 imgs into 84 train, 11 val, and 11 test examples.\n",
      "Moving mexican_hairless pictures.\n",
      "Split 80 imgs into 64 train, 8 val, and 8 test examples.\n",
      "Moving bull_mastiff pictures.\n",
      "Split 75 imgs into 60 train, 7 val, and 8 test examples.\n",
      "Moving bernese_mountain_dog pictures.\n",
      "Split 114 imgs into 91 train, 11 val, and 12 test examples.\n",
      "Moving american_staffordshire_terrier pictures.\n",
      "Split 74 imgs into 59 train, 7 val, and 8 test examples.\n",
      "Moving lhasa pictures.\n",
      "Split 90 imgs into 72 train, 9 val, and 9 test examples.\n",
      "Moving cardigan pictures.\n",
      "Split 76 imgs into 60 train, 8 val, and 8 test examples.\n",
      "Moving italian_greyhound pictures.\n",
      "Split 92 imgs into 73 train, 9 val, and 10 test examples.\n",
      "Moving clumber pictures.\n",
      "Split 80 imgs into 64 train, 8 val, and 8 test examples.\n",
      "Moving scotch_terrier pictures.\n",
      "Split 82 imgs into 65 train, 8 val, and 9 test examples.\n",
      "Moving afghan_hound pictures.\n",
      "Split 116 imgs into 92 train, 12 val, and 12 test examples.\n",
      "Moving old_english_sheepdog pictures.\n",
      "Split 87 imgs into 69 train, 9 val, and 9 test examples.\n",
      "Moving saint_bernard pictures.\n",
      "Split 84 imgs into 67 train, 8 val, and 9 test examples.\n",
      "Moving miniature_pinscher pictures.\n",
      "Split 102 imgs into 81 train, 10 val, and 11 test examples.\n",
      "Moving eskimo_dog pictures.\n",
      "Split 66 imgs into 52 train, 7 val, and 7 test examples.\n",
      "Moving irish_wolfhound pictures.\n",
      "Split 101 imgs into 80 train, 10 val, and 11 test examples.\n",
      "Moving brabancon_griffon pictures.\n",
      "Split 67 imgs into 53 train, 7 val, and 7 test examples.\n",
      "Moving toy_terrier pictures.\n",
      "Split 79 imgs into 63 train, 8 val, and 8 test examples.\n",
      "Moving chow pictures.\n",
      "Split 93 imgs into 74 train, 9 val, and 10 test examples.\n",
      "Moving flat-coated_retriever pictures.\n",
      "Split 72 imgs into 57 train, 7 val, and 8 test examples.\n",
      "Moving norwich_terrier pictures.\n",
      "Split 78 imgs into 62 train, 8 val, and 8 test examples.\n",
      "Moving soft-coated_wheaten_terrier pictures.\n",
      "Split 71 imgs into 56 train, 7 val, and 8 test examples.\n",
      "Moving staffordshire_bullterrier pictures.\n",
      "Split 79 imgs into 63 train, 8 val, and 8 test examples.\n",
      "Moving english_foxhound pictures.\n",
      "Split 86 imgs into 68 train, 9 val, and 9 test examples.\n",
      "Moving gordon_setter pictures.\n",
      "Split 81 imgs into 64 train, 8 val, and 9 test examples.\n",
      "Moving siberian_husky pictures.\n",
      "Split 95 imgs into 76 train, 9 val, and 10 test examples.\n",
      "Moving newfoundland pictures.\n",
      "Split 91 imgs into 72 train, 9 val, and 10 test examples.\n",
      "Moving briard pictures.\n",
      "Split 66 imgs into 52 train, 7 val, and 7 test examples.\n",
      "Moving chesapeake_bay_retriever pictures.\n",
      "Split 83 imgs into 66 train, 8 val, and 9 test examples.\n"
     ]
    },
    {
     "name": "stdout",
     "output_type": "stream",
     "text": [
      "Moving dandie_dinmont pictures.\n",
      "Split 89 imgs into 71 train, 9 val, and 9 test examples.\n",
      "Moving great_pyrenees pictures.\n",
      "Split 111 imgs into 88 train, 11 val, and 12 test examples.\n",
      "Moving beagle pictures.\n",
      "Split 105 imgs into 84 train, 10 val, and 11 test examples.\n",
      "Moving vizsla pictures.\n",
      "Split 70 imgs into 56 train, 7 val, and 7 test examples.\n",
      "Moving west_highland_white_terrier pictures.\n",
      "Split 81 imgs into 64 train, 8 val, and 9 test examples.\n",
      "Moving kerry_blue_terrier pictures.\n",
      "Split 82 imgs into 65 train, 8 val, and 9 test examples.\n",
      "Moving whippet pictures.\n",
      "Split 95 imgs into 76 train, 9 val, and 10 test examples.\n",
      "Moving sealyham_terrier pictures.\n",
      "Split 88 imgs into 70 train, 9 val, and 9 test examples.\n",
      "Moving standard_poodle pictures.\n",
      "Split 79 imgs into 63 train, 8 val, and 8 test examples.\n",
      "Moving keeshond pictures.\n",
      "Split 81 imgs into 64 train, 8 val, and 9 test examples.\n",
      "Moving japanese_spaniel pictures.\n",
      "Split 105 imgs into 84 train, 10 val, and 11 test examples.\n",
      "Moving miniature_poodle pictures.\n",
      "Split 79 imgs into 63 train, 8 val, and 8 test examples.\n",
      "Moving pomeranian pictures.\n",
      "Split 111 imgs into 88 train, 11 val, and 12 test examples.\n",
      "Moving curly-coated_retriever pictures.\n",
      "Split 72 imgs into 57 train, 7 val, and 8 test examples.\n",
      "Moving yorkshire_terrier pictures.\n",
      "Split 82 imgs into 65 train, 8 val, and 9 test examples.\n",
      "Moving pembroke pictures.\n",
      "Split 92 imgs into 73 train, 9 val, and 10 test examples.\n",
      "Moving great_dane pictures.\n",
      "Split 75 imgs into 60 train, 7 val, and 8 test examples.\n",
      "Moving blenheim_spaniel pictures.\n",
      "Split 102 imgs into 81 train, 10 val, and 11 test examples.\n",
      "Moving silky_terrier pictures.\n",
      "Split 90 imgs into 72 train, 9 val, and 9 test examples.\n",
      "Moving sussex_spaniel pictures.\n",
      "Split 78 imgs into 62 train, 8 val, and 8 test examples.\n",
      "Moving german_short-haired_pointer pictures.\n",
      "Split 75 imgs into 60 train, 7 val, and 8 test examples.\n",
      "Moving french_bulldog pictures.\n",
      "Split 70 imgs into 56 train, 7 val, and 7 test examples.\n",
      "Moving bouvier_des_flandres pictures.\n",
      "Split 86 imgs into 68 train, 9 val, and 9 test examples.\n",
      "Moving tibetan_mastiff pictures.\n",
      "Split 69 imgs into 55 train, 7 val, and 7 test examples.\n",
      "Moving english_springer pictures.\n",
      "Split 75 imgs into 60 train, 7 val, and 8 test examples.\n",
      "Moving cocker_spaniel pictures.\n",
      "Split 74 imgs into 59 train, 7 val, and 8 test examples.\n",
      "Moving rottweiler pictures.\n",
      "Split 76 imgs into 60 train, 8 val, and 8 test examples.\n"
     ]
    }
   ],
   "source": [
    "#Your code here; transform the image files and then load them into Keras as tensors \n",
    "#(be sure to perform a train-val-test split)\n",
    "import numpy as np\n",
    "import os, shutil\n",
    "\n",
    "old_dir = 'train/'\n",
    "\n",
    "new_root_dir = 'data_org4/'\n",
    "os.mkdir(new_root_dir)\n",
    "\n",
    "dir_names = ['train', 'val', 'test']\n",
    "for d in dir_names:\n",
    "    new_dir = os.path.join(new_root_dir, d)\n",
    "    os.mkdir(new_dir)\n",
    "    \n",
    "for breed in df.breed.unique():\n",
    "    print('Moving {} pictures.'.format(breed))\n",
    "    #Create sub_directories\n",
    "    for d in dir_names:\n",
    "        new_dir = os.path.join(new_root_dir, d, breed)\n",
    "        os.mkdir(new_dir)\n",
    "    #Subset dataframe into train, validate and split sets\n",
    "    #Split is performed here to ensure maintain class distributions.\n",
    "    temp = df[df.breed == breed]\n",
    "    train, validate, test = np.split(temp.sample(frac=1), [int(.8*len(temp)), int(.9*len(temp))])\n",
    "    print('Split {} imgs into {} train, {} val, and {} test examples.'.format(len(temp),\n",
    "                                                                              len(train),\n",
    "                                                                              len(validate),\n",
    "                                                                              len(test)))\n",
    "    for i, temp in enumerate([train, validate, test]):\n",
    "        for row in temp.index:\n",
    "            filename = temp['id'][row] + '.jpg'\n",
    "            origin = os.path.join(old_dir + filename)\n",
    "            destination = os.path.join(new_root_dir + dir_names[i] + '/' + breed + '/' + filename)\n",
    "            shutil.copy(origin, destination)"
   ]
  },
  {
   "cell_type": "code",
   "execution_count": 7,
   "metadata": {},
   "outputs": [
    {
     "name": "stdout",
     "output_type": "stream",
     "text": [
      "Found 8127 images belonging to 120 classes.\n",
      "Found 1017 images belonging to 120 classes.\n"
     ]
    }
   ],
   "source": [
    "from keras.preprocessing.image import ImageDataGenerator\n",
    "train_dir = 'data_org2/train'\n",
    "validation_dir = 'data_org2/val/'\n",
    "test_dir = 'data_org2/test/'\n",
    "train_datagen = ImageDataGenerator(rescale=1./255)\n",
    "test_datagen = ImageDataGenerator(rescale=1./255)\n",
    "train_generator = train_datagen.flow_from_directory(train_dir,target_size=(150, 150),\n",
    "                                                    batch_size=20,class_mode='categorical')\n",
    "validation_generator = test_datagen.flow_from_directory(validation_dir,target_size=(150, 150),\n",
    "                                                        batch_size=20,class_mode='categorical')"
   ]
  },
  {
   "cell_type": "markdown",
   "metadata": {},
   "source": [
    "## Optional: Build a Baseline CNN\n",
    "\n",
    "This is an optional step. Adapting a pretrained model will produce better results, but it may be interesting to create a CNN from scratch as a baseline. If you wish to, do so here."
   ]
  },
  {
   "cell_type": "code",
   "execution_count": null,
   "metadata": {},
   "outputs": [],
   "source": [
    "#Create a baseline CNN model"
   ]
  },
  {
   "cell_type": "markdown",
   "metadata": {},
   "source": [
    "## Loading a Pretrained CNN"
   ]
  },
  {
   "cell_type": "markdown",
   "metadata": {},
   "source": [
    "## Feature Engineering with the Pretrained Model\n",
    "\n",
    "Now that you've loaded a pretrained model, it's time to adapt that convolutional base and add some fully connected layers on top in order to build a classifier from these feature maps."
   ]
  },
  {
   "cell_type": "code",
   "execution_count": 8,
   "metadata": {},
   "outputs": [
    {
     "name": "stdout",
     "output_type": "stream",
     "text": [
      "vgg19 False\n",
      "flatten_1 True\n",
      "dense_1 True\n",
      "dense_2 True\n",
      "dense_3 True\n",
      "dense_4 True\n",
      "dense_5 True\n",
      "10\n",
      "_________________________________________________________________\n",
      "Layer (type)                 Output Shape              Param #   \n",
      "=================================================================\n",
      "vgg19 (Model)                (None, 7, 7, 512)         20024384  \n",
      "_________________________________________________________________\n",
      "flatten_1 (Flatten)          (None, 25088)             0         \n",
      "_________________________________________________________________\n",
      "dense_1 (Dense)              (None, 64)                1605696   \n",
      "_________________________________________________________________\n",
      "dense_2 (Dense)              (None, 128)               8320      \n",
      "_________________________________________________________________\n",
      "dense_3 (Dense)              (None, 256)               33024     \n",
      "_________________________________________________________________\n",
      "dense_4 (Dense)              (None, 128)               32896     \n",
      "_________________________________________________________________\n",
      "dense_5 (Dense)              (None, 120)               15480     \n",
      "=================================================================\n",
      "Total params: 21,719,800\n",
      "Trainable params: 1,695,416\n",
      "Non-trainable params: 20,024,384\n",
      "_________________________________________________________________\n"
     ]
    }
   ],
   "source": [
    "#Your code here; add fully connected layers on top of the convolutional base\n",
    "from keras import layers\n",
    "from keras import models\n",
    "from keras import optimizers\n",
    "from keras.applications import VGG19\n",
    "cnn_base = VGG19(weights='imagenet',\n",
    "                 include_top=False,\n",
    "                 input_shape=(240, 240, 3))\n",
    "\n",
    "#Define Model Architecture\n",
    "model = models.Sequential()\n",
    "model.add(cnn_base)\n",
    "model.add(layers.Flatten())\n",
    "model.add(layers.Dense(64, activation='relu'))\n",
    "model.add(layers.Dense(128, activation='relu'))\n",
    "model.add(layers.Dense(256, activation='relu'))\n",
    "model.add(layers.Dense(128, activation='relu'))\n",
    "model.add(layers.Dense(120, activation='sigmoid'))\n",
    "\n",
    "cnn_base.trainable = False\n",
    "\n",
    "#You can check whether a layer is trainable (or alter its setting) through the layer.trainable attribute:\n",
    "for layer in model.layers:\n",
    "    print(layer.name, layer.trainable)\n",
    "    \n",
    "#Similarly, we can check how many trainable weights are in the model:\n",
    "print(len(model.trainable_weights))\n",
    "\n",
    "model.summary()"
   ]
  },
  {
   "cell_type": "markdown",
   "metadata": {},
   "source": [
    "## Visualize History\n",
    "\n",
    "Now fit the model and visualize the training and validation accuracy/loss functions over successive epochs."
   ]
  },
  {
   "cell_type": "code",
   "execution_count": 9,
   "metadata": {},
   "outputs": [
    {
     "name": "stdout",
     "output_type": "stream",
     "text": [
      "Found 8127 images belonging to 120 classes.\n",
      "Found 1017 images belonging to 120 classes.\n",
      "Found 1078 images belonging to 120 classes.\n"
     ]
    },
    {
     "name": "stderr",
     "output_type": "stream",
     "text": [
      "W0708 09:38:30.075282  1324 deprecation_wrapper.py:119] From C:\\Users\\kylej\\Anaconda3\\lib\\site-packages\\keras\\optimizers.py:790: The name tf.train.Optimizer is deprecated. Please use tf.compat.v1.train.Optimizer instead.\n",
      "\n",
      "W0708 09:38:30.139282  1324 deprecation.py:323] From C:\\Users\\kylej\\Anaconda3\\lib\\site-packages\\tensorflow\\python\\ops\\math_grad.py:1250: add_dispatch_support.<locals>.wrapper (from tensorflow.python.ops.array_ops) is deprecated and will be removed in a future version.\n",
      "Instructions for updating:\n",
      "Use tf.where in 2.0, which has the same broadcast rule as np.where\n"
     ]
    },
    {
     "name": "stdout",
     "output_type": "stream",
     "text": [
      "Epoch 1/10\n",
      "22/27 [=======================>......] - ETA: 11s - loss: 4.7913 - acc: 0.0068"
     ]
    },
    {
     "ename": "KeyboardInterrupt",
     "evalue": "",
     "output_type": "error",
     "traceback": [
      "\u001b[1;31m---------------------------------------------------------------------------\u001b[0m",
      "\u001b[1;31mKeyboardInterrupt\u001b[0m                         Traceback (most recent call last)",
      "\u001b[1;32m<ipython-input-9-13f5417f7151>\u001b[0m in \u001b[0;36m<module>\u001b[1;34m\u001b[0m\n\u001b[0;32m     55\u001b[0m               \u001b[0mepochs\u001b[0m \u001b[1;33m=\u001b[0m \u001b[1;36m10\u001b[0m\u001b[1;33m,\u001b[0m\u001b[1;33m\u001b[0m\u001b[1;33m\u001b[0m\u001b[0m\n\u001b[0;32m     56\u001b[0m               \u001b[0mvalidation_data\u001b[0m \u001b[1;33m=\u001b[0m \u001b[0mval_generator\u001b[0m\u001b[1;33m,\u001b[0m\u001b[1;33m\u001b[0m\u001b[1;33m\u001b[0m\u001b[0m\n\u001b[1;32m---> 57\u001b[1;33m               validation_steps = 10)\n\u001b[0m",
      "\u001b[1;32m~\\Anaconda3\\lib\\site-packages\\keras\\legacy\\interfaces.py\u001b[0m in \u001b[0;36mwrapper\u001b[1;34m(*args, **kwargs)\u001b[0m\n\u001b[0;32m     89\u001b[0m                 warnings.warn('Update your `' + object_name + '` call to the ' +\n\u001b[0;32m     90\u001b[0m                               'Keras 2 API: ' + signature, stacklevel=2)\n\u001b[1;32m---> 91\u001b[1;33m             \u001b[1;32mreturn\u001b[0m \u001b[0mfunc\u001b[0m\u001b[1;33m(\u001b[0m\u001b[1;33m*\u001b[0m\u001b[0margs\u001b[0m\u001b[1;33m,\u001b[0m \u001b[1;33m**\u001b[0m\u001b[0mkwargs\u001b[0m\u001b[1;33m)\u001b[0m\u001b[1;33m\u001b[0m\u001b[1;33m\u001b[0m\u001b[0m\n\u001b[0m\u001b[0;32m     92\u001b[0m         \u001b[0mwrapper\u001b[0m\u001b[1;33m.\u001b[0m\u001b[0m_original_function\u001b[0m \u001b[1;33m=\u001b[0m \u001b[0mfunc\u001b[0m\u001b[1;33m\u001b[0m\u001b[1;33m\u001b[0m\u001b[0m\n\u001b[0;32m     93\u001b[0m         \u001b[1;32mreturn\u001b[0m \u001b[0mwrapper\u001b[0m\u001b[1;33m\u001b[0m\u001b[1;33m\u001b[0m\u001b[0m\n",
      "\u001b[1;32m~\\Anaconda3\\lib\\site-packages\\keras\\engine\\training.py\u001b[0m in \u001b[0;36mfit_generator\u001b[1;34m(self, generator, steps_per_epoch, epochs, verbose, callbacks, validation_data, validation_steps, class_weight, max_queue_size, workers, use_multiprocessing, shuffle, initial_epoch)\u001b[0m\n\u001b[0;32m   1416\u001b[0m             \u001b[0muse_multiprocessing\u001b[0m\u001b[1;33m=\u001b[0m\u001b[0muse_multiprocessing\u001b[0m\u001b[1;33m,\u001b[0m\u001b[1;33m\u001b[0m\u001b[1;33m\u001b[0m\u001b[0m\n\u001b[0;32m   1417\u001b[0m             \u001b[0mshuffle\u001b[0m\u001b[1;33m=\u001b[0m\u001b[0mshuffle\u001b[0m\u001b[1;33m,\u001b[0m\u001b[1;33m\u001b[0m\u001b[1;33m\u001b[0m\u001b[0m\n\u001b[1;32m-> 1418\u001b[1;33m             initial_epoch=initial_epoch)\n\u001b[0m\u001b[0;32m   1419\u001b[0m \u001b[1;33m\u001b[0m\u001b[0m\n\u001b[0;32m   1420\u001b[0m     \u001b[1;33m@\u001b[0m\u001b[0minterfaces\u001b[0m\u001b[1;33m.\u001b[0m\u001b[0mlegacy_generator_methods_support\u001b[0m\u001b[1;33m\u001b[0m\u001b[1;33m\u001b[0m\u001b[0m\n",
      "\u001b[1;32m~\\Anaconda3\\lib\\site-packages\\keras\\engine\\training_generator.py\u001b[0m in \u001b[0;36mfit_generator\u001b[1;34m(model, generator, steps_per_epoch, epochs, verbose, callbacks, validation_data, validation_steps, class_weight, max_queue_size, workers, use_multiprocessing, shuffle, initial_epoch)\u001b[0m\n\u001b[0;32m    215\u001b[0m                 outs = model.train_on_batch(x, y,\n\u001b[0;32m    216\u001b[0m                                             \u001b[0msample_weight\u001b[0m\u001b[1;33m=\u001b[0m\u001b[0msample_weight\u001b[0m\u001b[1;33m,\u001b[0m\u001b[1;33m\u001b[0m\u001b[1;33m\u001b[0m\u001b[0m\n\u001b[1;32m--> 217\u001b[1;33m                                             class_weight=class_weight)\n\u001b[0m\u001b[0;32m    218\u001b[0m \u001b[1;33m\u001b[0m\u001b[0m\n\u001b[0;32m    219\u001b[0m                 \u001b[0mouts\u001b[0m \u001b[1;33m=\u001b[0m \u001b[0mto_list\u001b[0m\u001b[1;33m(\u001b[0m\u001b[0mouts\u001b[0m\u001b[1;33m)\u001b[0m\u001b[1;33m\u001b[0m\u001b[1;33m\u001b[0m\u001b[0m\n",
      "\u001b[1;32m~\\Anaconda3\\lib\\site-packages\\keras\\engine\\training.py\u001b[0m in \u001b[0;36mtrain_on_batch\u001b[1;34m(self, x, y, sample_weight, class_weight)\u001b[0m\n\u001b[0;32m   1215\u001b[0m             \u001b[0mins\u001b[0m \u001b[1;33m=\u001b[0m \u001b[0mx\u001b[0m \u001b[1;33m+\u001b[0m \u001b[0my\u001b[0m \u001b[1;33m+\u001b[0m \u001b[0msample_weights\u001b[0m\u001b[1;33m\u001b[0m\u001b[1;33m\u001b[0m\u001b[0m\n\u001b[0;32m   1216\u001b[0m         \u001b[0mself\u001b[0m\u001b[1;33m.\u001b[0m\u001b[0m_make_train_function\u001b[0m\u001b[1;33m(\u001b[0m\u001b[1;33m)\u001b[0m\u001b[1;33m\u001b[0m\u001b[1;33m\u001b[0m\u001b[0m\n\u001b[1;32m-> 1217\u001b[1;33m         \u001b[0moutputs\u001b[0m \u001b[1;33m=\u001b[0m \u001b[0mself\u001b[0m\u001b[1;33m.\u001b[0m\u001b[0mtrain_function\u001b[0m\u001b[1;33m(\u001b[0m\u001b[0mins\u001b[0m\u001b[1;33m)\u001b[0m\u001b[1;33m\u001b[0m\u001b[1;33m\u001b[0m\u001b[0m\n\u001b[0m\u001b[0;32m   1218\u001b[0m         \u001b[1;32mreturn\u001b[0m \u001b[0munpack_singleton\u001b[0m\u001b[1;33m(\u001b[0m\u001b[0moutputs\u001b[0m\u001b[1;33m)\u001b[0m\u001b[1;33m\u001b[0m\u001b[1;33m\u001b[0m\u001b[0m\n\u001b[0;32m   1219\u001b[0m \u001b[1;33m\u001b[0m\u001b[0m\n",
      "\u001b[1;32m~\\Anaconda3\\lib\\site-packages\\keras\\backend\\tensorflow_backend.py\u001b[0m in \u001b[0;36m__call__\u001b[1;34m(self, inputs)\u001b[0m\n\u001b[0;32m   2713\u001b[0m                 \u001b[1;32mreturn\u001b[0m \u001b[0mself\u001b[0m\u001b[1;33m.\u001b[0m\u001b[0m_legacy_call\u001b[0m\u001b[1;33m(\u001b[0m\u001b[0minputs\u001b[0m\u001b[1;33m)\u001b[0m\u001b[1;33m\u001b[0m\u001b[1;33m\u001b[0m\u001b[0m\n\u001b[0;32m   2714\u001b[0m \u001b[1;33m\u001b[0m\u001b[0m\n\u001b[1;32m-> 2715\u001b[1;33m             \u001b[1;32mreturn\u001b[0m \u001b[0mself\u001b[0m\u001b[1;33m.\u001b[0m\u001b[0m_call\u001b[0m\u001b[1;33m(\u001b[0m\u001b[0minputs\u001b[0m\u001b[1;33m)\u001b[0m\u001b[1;33m\u001b[0m\u001b[1;33m\u001b[0m\u001b[0m\n\u001b[0m\u001b[0;32m   2716\u001b[0m         \u001b[1;32melse\u001b[0m\u001b[1;33m:\u001b[0m\u001b[1;33m\u001b[0m\u001b[1;33m\u001b[0m\u001b[0m\n\u001b[0;32m   2717\u001b[0m             \u001b[1;32mif\u001b[0m \u001b[0mpy_any\u001b[0m\u001b[1;33m(\u001b[0m\u001b[0mis_tensor\u001b[0m\u001b[1;33m(\u001b[0m\u001b[0mx\u001b[0m\u001b[1;33m)\u001b[0m \u001b[1;32mfor\u001b[0m \u001b[0mx\u001b[0m \u001b[1;32min\u001b[0m \u001b[0minputs\u001b[0m\u001b[1;33m)\u001b[0m\u001b[1;33m:\u001b[0m\u001b[1;33m\u001b[0m\u001b[1;33m\u001b[0m\u001b[0m\n",
      "\u001b[1;32m~\\Anaconda3\\lib\\site-packages\\keras\\backend\\tensorflow_backend.py\u001b[0m in \u001b[0;36m_call\u001b[1;34m(self, inputs)\u001b[0m\n\u001b[0;32m   2673\u001b[0m             \u001b[0mfetched\u001b[0m \u001b[1;33m=\u001b[0m \u001b[0mself\u001b[0m\u001b[1;33m.\u001b[0m\u001b[0m_callable_fn\u001b[0m\u001b[1;33m(\u001b[0m\u001b[1;33m*\u001b[0m\u001b[0marray_vals\u001b[0m\u001b[1;33m,\u001b[0m \u001b[0mrun_metadata\u001b[0m\u001b[1;33m=\u001b[0m\u001b[0mself\u001b[0m\u001b[1;33m.\u001b[0m\u001b[0mrun_metadata\u001b[0m\u001b[1;33m)\u001b[0m\u001b[1;33m\u001b[0m\u001b[1;33m\u001b[0m\u001b[0m\n\u001b[0;32m   2674\u001b[0m         \u001b[1;32melse\u001b[0m\u001b[1;33m:\u001b[0m\u001b[1;33m\u001b[0m\u001b[1;33m\u001b[0m\u001b[0m\n\u001b[1;32m-> 2675\u001b[1;33m             \u001b[0mfetched\u001b[0m \u001b[1;33m=\u001b[0m \u001b[0mself\u001b[0m\u001b[1;33m.\u001b[0m\u001b[0m_callable_fn\u001b[0m\u001b[1;33m(\u001b[0m\u001b[1;33m*\u001b[0m\u001b[0marray_vals\u001b[0m\u001b[1;33m)\u001b[0m\u001b[1;33m\u001b[0m\u001b[1;33m\u001b[0m\u001b[0m\n\u001b[0m\u001b[0;32m   2676\u001b[0m         \u001b[1;32mreturn\u001b[0m \u001b[0mfetched\u001b[0m\u001b[1;33m[\u001b[0m\u001b[1;33m:\u001b[0m\u001b[0mlen\u001b[0m\u001b[1;33m(\u001b[0m\u001b[0mself\u001b[0m\u001b[1;33m.\u001b[0m\u001b[0moutputs\u001b[0m\u001b[1;33m)\u001b[0m\u001b[1;33m]\u001b[0m\u001b[1;33m\u001b[0m\u001b[1;33m\u001b[0m\u001b[0m\n\u001b[0;32m   2677\u001b[0m \u001b[1;33m\u001b[0m\u001b[0m\n",
      "\u001b[1;32m~\\Anaconda3\\lib\\site-packages\\tensorflow\\python\\client\\session.py\u001b[0m in \u001b[0;36m__call__\u001b[1;34m(self, *args, **kwargs)\u001b[0m\n\u001b[0;32m   1456\u001b[0m         ret = tf_session.TF_SessionRunCallable(self._session._session,\n\u001b[0;32m   1457\u001b[0m                                                \u001b[0mself\u001b[0m\u001b[1;33m.\u001b[0m\u001b[0m_handle\u001b[0m\u001b[1;33m,\u001b[0m \u001b[0margs\u001b[0m\u001b[1;33m,\u001b[0m\u001b[1;33m\u001b[0m\u001b[1;33m\u001b[0m\u001b[0m\n\u001b[1;32m-> 1458\u001b[1;33m                                                run_metadata_ptr)\n\u001b[0m\u001b[0;32m   1459\u001b[0m         \u001b[1;32mif\u001b[0m \u001b[0mrun_metadata\u001b[0m\u001b[1;33m:\u001b[0m\u001b[1;33m\u001b[0m\u001b[1;33m\u001b[0m\u001b[0m\n\u001b[0;32m   1460\u001b[0m           \u001b[0mproto_data\u001b[0m \u001b[1;33m=\u001b[0m \u001b[0mtf_session\u001b[0m\u001b[1;33m.\u001b[0m\u001b[0mTF_GetBuffer\u001b[0m\u001b[1;33m(\u001b[0m\u001b[0mrun_metadata_ptr\u001b[0m\u001b[1;33m)\u001b[0m\u001b[1;33m\u001b[0m\u001b[1;33m\u001b[0m\u001b[0m\n",
      "\u001b[1;31mKeyboardInterrupt\u001b[0m: "
     ]
    }
   ],
   "source": [
    "#Your code here; visualize the training / validation history associated with fitting the model.\n",
    "train_dir = 'data_org4/train'\n",
    "validation_dir = 'data_org4/val/'\n",
    "test_dir = 'data_org4/test/'\n",
    "\n",
    "\n",
    "#Define Initial Parameters (same as previous code block)\n",
    "datagen = ImageDataGenerator(rescale=1./255) \n",
    "batch_size = 10\n",
    "\n",
    "# get all the data in the directory split/train (542 images), and reshape them\n",
    "train_datagen = ImageDataGenerator(\n",
    "      rescale=1./255,\n",
    "      rotation_range=40,\n",
    "      width_shift_range=0.2,\n",
    "      height_shift_range=0.2,\n",
    "      shear_range=0.2,\n",
    "      zoom_range=0.2,\n",
    "      horizontal_flip=True,\n",
    "      fill_mode='nearest')\n",
    "\n",
    "train_generator = train_datagen.flow_from_directory(\n",
    "        train_dir, \n",
    "        target_size=(240, 240), \n",
    "        batch_size= 20,\n",
    "        class_mode= 'categorical') \n",
    "\n",
    "# get all the data in the directory split/validation (200 images), and reshape them\n",
    "val_generator = ImageDataGenerator(rescale=1./255).flow_from_directory(\n",
    "        validation_dir, \n",
    "        target_size=(240, 240), \n",
    "        batch_size = 20,\n",
    "        class_mode= 'categorical')\n",
    "\n",
    "# get all the data in the directory split/test (180 images), and reshape them\n",
    "test_generator = ImageDataGenerator(rescale=1./255).flow_from_directory(\n",
    "        test_dir, \n",
    "        target_size=(240, 240), \n",
    "        batch_size = 180,\n",
    "        class_mode= 'categorical',\n",
    "        shuffle=False)\n",
    "\n",
    "test_images, test_labels = next(test_generator)\n",
    "\n",
    "\n",
    "#Compilation\n",
    "model.compile(loss='categorical_crossentropy',\n",
    "              optimizer=optimizers.RMSprop(lr=2e-5),\n",
    "              metrics=['acc'])\n",
    "\n",
    "#Fitting the Model\n",
    "history = model.fit_generator(\n",
    "              train_generator,\n",
    "              steps_per_epoch= 27,\n",
    "              epochs = 10,\n",
    "              validation_data = val_generator,\n",
    "              validation_steps = 10)"
   ]
  },
  {
   "cell_type": "code",
   "execution_count": 7,
   "metadata": {},
   "outputs": [
    {
     "data": {
      "image/png": "[encoded data removed]",
      "text/plain": [
       "<Figure size 432x288 with 1 Axes>"
      ]
     },
     "metadata": {
      "needs_background": "light"
     },
     "output_type": "display_data"
    },
    {
     "data": {
      "image/png": "[encoded data removed]",
      "text/plain": [
       "<Figure size 432x288 with 1 Axes>"
      ]
     },
     "metadata": {
      "needs_background": "light"
     },
     "output_type": "display_data"
    }
   ],
   "source": [
    "import matplotlib.pyplot as plt\n",
    "%matplotlib inline \n",
    "\n",
    "acc = history.history['acc']\n",
    "val_acc = history.history['val_acc']\n",
    "loss = history.history['loss']\n",
    "val_loss = history.history['val_loss']\n",
    "epochs = range(len(acc))\n",
    "plt.plot(epochs, acc, 'bo', label='Training acc')\n",
    "plt.plot(epochs, val_acc, 'b', label='Validation acc')\n",
    "plt.title('Training and validation accuracy')\n",
    "plt.legend()\n",
    "plt.figure()\n",
    "plt.plot(epochs, loss, 'bo', label='Training loss')\n",
    "plt.plot(epochs, val_loss, 'b', label='Validation loss')\n",
    "plt.title('Training and validation loss')\n",
    "plt.legend()\n",
    "plt.show()"
   ]
  },
  {
   "cell_type": "code",
   "execution_count": 8,
   "metadata": {},
   "outputs": [],
   "source": [
    "#Save model\n",
    "model.save('vgg19_FE_AUG_10epochs.h5')"
   ]
  },
  {
   "cell_type": "markdown",
   "metadata": {},
   "source": [
    "## Final Model Evaluation"
   ]
  },
  {
   "cell_type": "code",
   "execution_count": null,
   "metadata": {},
   "outputs": [],
   "source": [
    "#Your code here"
   ]
  },
  {
   "cell_type": "markdown",
   "metadata": {},
   "source": [
    "## Summary\n",
    "\n",
    "Congratulations! In this lab, you brought all of your prior deep learning skills together from preprocessing including one-hot encoding, to adapting a pretrained model. There are always ongoing advancements in CNN architectures and best practices, but you have a solid foundation and understanding at this point."
   ]
  }
 ],
 "metadata": {
  "kernelspec": {
   "display_name": "Python 3",
   "language": "python",
   "name": "python3"
  },
  "language_info": {
   "codemirror_mode": {
    "name": "ipython",
    "version": 3
   },
   "file_extension": ".py",
   "mimetype": "text/x-python",
   "name": "python",
   "nbconvert_exporter": "python",
   "pygments_lexer": "ipython3",
   "version": "3.7.3"
  }
 },
 "nbformat": 4,
 "nbformat_minor": 2
}
